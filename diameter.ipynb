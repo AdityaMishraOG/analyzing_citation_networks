{
 "cells": [
  {
   "cell_type": "code",
   "execution_count": 1,
   "metadata": {},
   "outputs": [
    {
     "name": "stdout",
     "output_type": "stream",
     "text": [
      "The diameter of the directed graph is: 3\n"
     ]
    }
   ],
   "source": [
    "# MANUAL IMPLEMENTATION OF DIAMETER WHICH CAN BE USED IF THE INBUILT FUNCTION DOES NOT WORK\n",
    "import networkx as nx\n",
    "\n",
    "# Create a directed graph (replace this with your graph)\n",
    "G = nx.DiGraph()\n",
    "G.add_edges_from([(1, 2), (2, 3), (3, 1), (3, 4), (4, 2)])\n",
    "\n",
    "# Compute all pairs shortest paths\n",
    "all_shortest_paths = dict(nx.all_pairs_shortest_path_length(G))\n",
    "\n",
    "# Find the diameter\n",
    "diameter = 0\n",
    "for source, paths in all_shortest_paths.items():\n",
    "    longest_path_length = max(paths.values())\n",
    "    diameter = max(diameter, longest_path_length)\n",
    "\n",
    "print(\"The diameter of the directed graph is:\", diameter)\n"
   ]
  }
 ],
 "metadata": {
  "kernelspec": {
   "display_name": "Python 3",
   "language": "python",
   "name": "python3"
  },
  "language_info": {
   "codemirror_mode": {
    "name": "ipython",
    "version": 3
   },
   "file_extension": ".py",
   "mimetype": "text/x-python",
   "name": "python",
   "nbconvert_exporter": "python",
   "pygments_lexer": "ipython3",
   "version": "3.10.12"
  }
 },
 "nbformat": 4,
 "nbformat_minor": 2
}
